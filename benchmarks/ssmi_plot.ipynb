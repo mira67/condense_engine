{
 "cells": [
  {
   "cell_type": "code",
   "execution_count": 3,
   "metadata": {
    "collapsed": false
   },
   "outputs": [],
   "source": [
    "import plotly.plotly as py\n",
    "from plotly.graph_objs import *\n",
    "import pandas as pd\n",
    "import requests\n",
    "from pyspark.sql import *\n",
    "from pyspark.sql.types import StringType\n",
    "requests.packages.urllib3.disable_warnings()\n",
    "\n",
    "tbName =[\"CH37H\" ,\"LOCMAP_S\"]\n",
    "url = \"jdbc:h2:tcp://localhost/~/ssmiSmall\"\n",
    "#url = \"jdbc:h2:tcp://10.240.85.53:9292/mem:~/ssmi9095ctest;DB_CLOSE_DELAY=-1\"\n",
    "\n",
    "df1 =sqlContext.read.jdbc(url=url, table = tbName[0],lowerBound = 0, upperBound = 350, numPartitions=200)#dbtable is variable\n",
    "df1.registerTempTable(tbName[0])\n",
    "df2 =sqlContext.read.jdbc(url=url, table = tbName[1],lowerBound = 0, upperBound = 350, numPartitions=200) #dbtable is variable\n",
    "df2.registerTempTable(tbName[1])\n",
    "\n",
    "#register helper functions for SQL\n",
    "sqlContext.registerFunction(\"MONTH\", lambda x: str(x)[5:7], StringType())#grab Month\n",
    "sqlContext.registerFunction(\"YEAR\", lambda x: str(x)[0:4], StringType())\n",
    "sqlContext.registerFunction(\"DAY\", lambda x: str(x)[8:10], StringType())\n"
   ]
  },
  {
   "cell_type": "code",
   "execution_count": 4,
   "metadata": {
    "collapsed": false
   },
   "outputs": [],
   "source": [
    "rdf1 = sqlContext.sql(\"SELECT * FROM CH37H\")\n",
    "rdf2 = sqlContext.sql(\"SELECT * FROM LOCMAP_S\")\n",
    "sqlContext.registerDataFrameAsTable(rdf1, \"ssmi\")\n",
    "sqlContext.registerDataFrameAsTable(rdf2, \"map\")\n",
    "df1 = sqlContext.sql(\"SELECT * FROM ssmi t1, map t2 WHERE t1.DATE BETWEEN '1990-01-01' AND '1990-01-31' AND t1.BT < 350 AND t1.LOCID = t2.ID\")"
   ]
  },
  {
   "cell_type": "code",
   "execution_count": 76,
   "metadata": {
    "collapsed": false
   },
   "outputs": [
    {
     "data": {
      "text/html": [
       "<iframe id=\"igraph\" scrolling=\"no\" style=\"border:none;\"seamless=\"seamless\" src=\"https://plot.ly/~mira67/28.embed\" height=\"525\" width=\"100%\"></iframe>"
      ],
      "text/plain": [
       "<plotly.tools.PlotlyDisplay object>"
      ]
     },
     "execution_count": 76,
     "metadata": {},
     "output_type": "execute_result"
    }
   ],
   "source": [
    "#Histogram, ideally, user can select one or more interested timestamp to show one or more histogram for comparison\n",
    "data = Data([Histogram(x=df1.toPandas()['BT'])])\n",
    "py.iplot(data, filename=\"ssmi plot\")\n"
   ]
  },
  {
   "cell_type": "code",
   "execution_count": 7,
   "metadata": {
    "collapsed": false
   },
   "outputs": [],
   "source": [
    "#Heatmap for one day, ideally any timestamp/region/or overlap timestamps\n",
    "dfp=df1.toPandas()"
   ]
  },
  {
   "cell_type": "code",
   "execution_count": 12,
   "metadata": {
    "collapsed": false
   },
   "outputs": [
    {
     "data": {
      "text/html": [
       "<div style=\"max-height:1000px;max-width:1500px;overflow:auto;\">\n",
       "<table border=\"1\" class=\"dataframe\">\n",
       "  <thead>\n",
       "    <tr style=\"text-align: right;\">\n",
       "      <th></th>\n",
       "      <th>DATE</th>\n",
       "      <th>LOCID</th>\n",
       "      <th>BT</th>\n",
       "      <th>ID</th>\n",
       "      <th>ROW</th>\n",
       "      <th>COL</th>\n",
       "    </tr>\n",
       "  </thead>\n",
       "  <tbody>\n",
       "    <tr>\n",
       "      <th>0</th>\n",
       "      <td>1990-01-01</td>\n",
       "      <td>31</td>\n",
       "      <td>183</td>\n",
       "      <td>31</td>\n",
       "      <td>0</td>\n",
       "      <td>31</td>\n",
       "    </tr>\n",
       "    <tr>\n",
       "      <th>1</th>\n",
       "      <td>1990-01-06</td>\n",
       "      <td>31</td>\n",
       "      <td>0</td>\n",
       "      <td>31</td>\n",
       "      <td>0</td>\n",
       "      <td>31</td>\n",
       "    </tr>\n",
       "    <tr>\n",
       "      <th>2</th>\n",
       "      <td>1990-01-31</td>\n",
       "      <td>31</td>\n",
       "      <td>181</td>\n",
       "      <td>31</td>\n",
       "      <td>0</td>\n",
       "      <td>31</td>\n",
       "    </tr>\n",
       "    <tr>\n",
       "      <th>3</th>\n",
       "      <td>1990-01-01</td>\n",
       "      <td>231</td>\n",
       "      <td>200</td>\n",
       "      <td>231</td>\n",
       "      <td>0</td>\n",
       "      <td>231</td>\n",
       "    </tr>\n",
       "    <tr>\n",
       "      <th>4</th>\n",
       "      <td>1990-01-28</td>\n",
       "      <td>231</td>\n",
       "      <td>281</td>\n",
       "      <td>231</td>\n",
       "      <td>0</td>\n",
       "      <td>231</td>\n",
       "    </tr>\n",
       "  </tbody>\n",
       "</table>\n",
       "</div>"
      ],
      "text/plain": [
       "        DATE  LOCID   BT   ID  ROW  COL\n",
       "0 1990-01-01     31  183   31    0   31\n",
       "1 1990-01-06     31    0   31    0   31\n",
       "2 1990-01-31     31  181   31    0   31\n",
       "3 1990-01-01    231  200  231    0  231\n",
       "4 1990-01-28    231  281  231    0  231"
      ]
     },
     "metadata": {},
     "output_type": "display_data"
    },
    {
     "data": {
      "text/html": [
       "<div style=\"max-height:1000px;max-width:1500px;overflow:auto;\">\n",
       "<table border=\"1\" class=\"dataframe\">\n",
       "  <thead>\n",
       "    <tr style=\"text-align: right;\">\n",
       "      <th></th>\n",
       "      <th>DATE</th>\n",
       "      <th>LOCID</th>\n",
       "      <th>BT</th>\n",
       "      <th>ID</th>\n",
       "      <th>ROW</th>\n",
       "      <th>COL</th>\n",
       "    </tr>\n",
       "  </thead>\n",
       "  <tbody>\n",
       "    <tr>\n",
       "      <th>314727</th>\n",
       "      <td>1990-01-02</td>\n",
       "      <td>104630</td>\n",
       "      <td>0</td>\n",
       "      <td>104630</td>\n",
       "      <td>315</td>\n",
       "      <td>50</td>\n",
       "    </tr>\n",
       "    <tr>\n",
       "      <th>314728</th>\n",
       "      <td>1990-01-31</td>\n",
       "      <td>104630</td>\n",
       "      <td>178</td>\n",
       "      <td>104630</td>\n",
       "      <td>315</td>\n",
       "      <td>50</td>\n",
       "    </tr>\n",
       "    <tr>\n",
       "      <th>314729</th>\n",
       "      <td>1990-01-01</td>\n",
       "      <td>104830</td>\n",
       "      <td>212</td>\n",
       "      <td>104830</td>\n",
       "      <td>315</td>\n",
       "      <td>250</td>\n",
       "    </tr>\n",
       "    <tr>\n",
       "      <th>314730</th>\n",
       "      <td>1990-01-16</td>\n",
       "      <td>104830</td>\n",
       "      <td>0</td>\n",
       "      <td>104830</td>\n",
       "      <td>315</td>\n",
       "      <td>250</td>\n",
       "    </tr>\n",
       "    <tr>\n",
       "      <th>314731</th>\n",
       "      <td>1990-01-31</td>\n",
       "      <td>104830</td>\n",
       "      <td>194</td>\n",
       "      <td>104830</td>\n",
       "      <td>315</td>\n",
       "      <td>250</td>\n",
       "    </tr>\n",
       "  </tbody>\n",
       "</table>\n",
       "</div>"
      ],
      "text/plain": [
       "             DATE   LOCID   BT      ID  ROW  COL\n",
       "314727 1990-01-02  104630    0  104630  315   50\n",
       "314728 1990-01-31  104630  178  104630  315   50\n",
       "314729 1990-01-01  104830  212  104830  315  250\n",
       "314730 1990-01-16  104830    0  104830  315  250\n",
       "314731 1990-01-31  104830  194  104830  315  250"
      ]
     },
     "metadata": {},
     "output_type": "display_data"
    }
   ],
   "source": [
    "from IPython.display import display\n",
    "from plotly.graph_objs import Bar, Scatter, Marker, Layout \n",
    "\n",
    "display(dfp.head())\n",
    "display(dfp.tail())"
   ]
  },
  {
   "cell_type": "code",
   "execution_count": 16,
   "metadata": {
    "collapsed": false
   },
   "outputs": [
    {
     "data": {
      "text/plain": [
       "5"
      ]
     },
     "execution_count": 16,
     "metadata": {},
     "output_type": "execute_result"
    }
   ],
   "source": [
    "#what will be meaningful, selected region, mean BT of selected region over temrpoal range trend\n",
    "#overlapped bar gragh (can be improved by pre-calculating the mean of BT on each day)\n",
    "py.iplot([Bar(x=dfp.DATE, y=dfp.BT)], filename='test')"
   ]
  },
  {
   "cell_type": "code",
   "execution_count": 25,
   "metadata": {
    "collapsed": false
   },
   "outputs": [],
   "source": [
    "#heatmap, mapping hottest/coldest pixels over the temporal range to a single map\n",
    "from plotly.graph_objs import *\n",
    "import plotly.tools as tls\n",
    "dfp.shape\n",
    "#grab pixels by day\n",
    "dayId = sqlContext.sql(\"SELECT DISTINCT DATE FROM ssmi ORDER BY DATE\")\n",
    "dayP = dayId.toPandas()"
   ]
  },
  {
   "cell_type": "code",
   "execution_count": 36,
   "metadata": {
    "collapsed": false
   },
   "outputs": [
    {
     "data": {
      "text/plain": [
       "0   1990-01-01\n",
       "Name: DATE, dtype: datetime64[ns]"
      ]
     },
     "execution_count": 36,
     "metadata": {},
     "output_type": "execute_result"
    }
   ],
   "source": [
    "dayP['DATE'][0:1]"
   ]
  },
  {
   "cell_type": "code",
   "execution_count": 40,
   "metadata": {
    "collapsed": false
   },
   "outputs": [],
   "source": [
    "day1 = sqlContext.sql(\"SELECT * FROM ssmi t1, map t2 WHERE t1.DATE BETWEEN '1990-01-01' AND '1990-01-01' AND t1.LOCID = t2.ID ORDER BY t1.LOCID\")"
   ]
  },
  {
   "cell_type": "code",
   "execution_count": 41,
   "metadata": {
    "collapsed": false
   },
   "outputs": [],
   "source": [
    "day1p = day1.toPandas()"
   ]
  },
  {
   "cell_type": "code",
   "execution_count": 46,
   "metadata": {
    "collapsed": false
   },
   "outputs": [
    {
     "data": {
      "text/html": [
       "<div style=\"max-height:1000px;max-width:1500px;overflow:auto;\">\n",
       "<table border=\"1\" class=\"dataframe\">\n",
       "  <thead>\n",
       "    <tr style=\"text-align: right;\">\n",
       "      <th></th>\n",
       "      <th>DATE</th>\n",
       "      <th>LOCID</th>\n",
       "      <th>BT</th>\n",
       "      <th>ID</th>\n",
       "      <th>ROW</th>\n",
       "      <th>COL</th>\n",
       "    </tr>\n",
       "  </thead>\n",
       "  <tbody>\n",
       "    <tr>\n",
       "      <th>0</th>\n",
       "      <td>1990-01-01</td>\n",
       "      <td>0</td>\n",
       "      <td>201</td>\n",
       "      <td>0</td>\n",
       "      <td>0</td>\n",
       "      <td>0</td>\n",
       "    </tr>\n",
       "    <tr>\n",
       "      <th>1</th>\n",
       "      <td>1990-01-01</td>\n",
       "      <td>1</td>\n",
       "      <td>205</td>\n",
       "      <td>1</td>\n",
       "      <td>0</td>\n",
       "      <td>1</td>\n",
       "    </tr>\n",
       "    <tr>\n",
       "      <th>2</th>\n",
       "      <td>1990-01-01</td>\n",
       "      <td>2</td>\n",
       "      <td>208</td>\n",
       "      <td>2</td>\n",
       "      <td>0</td>\n",
       "      <td>2</td>\n",
       "    </tr>\n",
       "    <tr>\n",
       "      <th>3</th>\n",
       "      <td>1990-01-01</td>\n",
       "      <td>3</td>\n",
       "      <td>201</td>\n",
       "      <td>3</td>\n",
       "      <td>0</td>\n",
       "      <td>3</td>\n",
       "    </tr>\n",
       "    <tr>\n",
       "      <th>4</th>\n",
       "      <td>1990-01-01</td>\n",
       "      <td>4</td>\n",
       "      <td>207</td>\n",
       "      <td>4</td>\n",
       "      <td>0</td>\n",
       "      <td>4</td>\n",
       "    </tr>\n",
       "  </tbody>\n",
       "</table>\n",
       "</div>"
      ],
      "text/plain": [
       "        DATE  LOCID   BT  ID  ROW  COL\n",
       "0 1990-01-01      0  201   0    0    0\n",
       "1 1990-01-01      1  205   1    0    1\n",
       "2 1990-01-01      2  208   2    0    2\n",
       "3 1990-01-01      3  201   3    0    3\n",
       "4 1990-01-01      4  207   4    0    4"
      ]
     },
     "execution_count": 46,
     "metadata": {},
     "output_type": "execute_result"
    }
   ],
   "source": [
    "day1p.head()"
   ]
  },
  {
   "cell_type": "code",
   "execution_count": 72,
   "metadata": {
    "collapsed": false
   },
   "outputs": [],
   "source": [
    "import numpy as np\n",
    "z = day1p.BT.as_matrix()\n",
    "rown = 316\n",
    "coln = 332\n",
    "z = z.reshape(coln, rown)\n",
    "x = np.arange(1,316,1)\n",
    "y = np.arange(1,331,1)"
   ]
  },
  {
   "cell_type": "code",
   "execution_count": 75,
   "metadata": {
    "collapsed": false
   },
   "outputs": [
    {
     "data": {
      "text/html": [
       "<iframe id=\"igraph\" scrolling=\"no\" style=\"border:none;\"seamless=\"seamless\" src=\"https://plot.ly/~mira67/51.embed\" height=\"525\" width=\"100%\"></iframe>"
      ],
      "text/plain": [
       "<plotly.tools.PlotlyDisplay object>"
      ]
     },
     "execution_count": 75,
     "metadata": {},
     "output_type": "execute_result"
    }
   ],
   "source": [
    "trace1 = Surface(\n",
    "        z=z,\n",
    "        x=x,\n",
    "        y=y,\n",
    "    )\n",
    "data = Data([trace1])\n",
    "# Dictionary of style options for all axes\n",
    "axis = dict(\n",
    "    showbackground=True, # (!) show axis background\n",
    "    backgroundcolor=\"rgb(204, 204, 204)\", # set background color to grey\n",
    "    gridcolor=\"rgb(255, 255, 255)\",       # set grid line color\n",
    "    zerolinecolor=\"rgb(255, 255, 255)\",   # set zero grid line color\n",
    ")\n",
    "\n",
    "# Make a layout object\n",
    "layout = Layout(\n",
    "    title='Mapping Pixels in 2D', # set plot title\n",
    "    scene=Scene(  # (!) axes are part of a 'scene' in 3d plots\n",
    "        xaxis=XAxis(axis), # set x-axis style\n",
    "        yaxis=YAxis(axis), # set y-axis style\n",
    "        zaxis=ZAxis(axis)  # set z-axis style\n",
    "    )\n",
    ")\n",
    "# Make a figure object\n",
    "fig = Figure(data=data, layout=layout)\n",
    "# (@) Send to Plotly and show in notebook\n",
    "py.iplot(fig, filename='Pixels Mapping')"
   ]
  },
  {
   "cell_type": "code",
   "execution_count": null,
   "metadata": {
    "collapsed": true
   },
   "outputs": [],
   "source": []
  }
 ],
 "metadata": {
  "kernelspec": {
   "display_name": "Python 2",
   "language": "python",
   "name": "python2"
  },
  "language_info": {
   "codemirror_mode": {
    "name": "ipython",
    "version": 2
   },
   "file_extension": ".py",
   "mimetype": "text/x-python",
   "name": "python",
   "nbconvert_exporter": "python",
   "pygments_lexer": "ipython2",
   "version": "2.7.9"
  }
 },
 "nbformat": 4,
 "nbformat_minor": 0
}
