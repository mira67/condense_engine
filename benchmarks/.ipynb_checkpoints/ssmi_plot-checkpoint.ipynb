{
 "cells": [
  {
   "cell_type": "code",
   "execution_count": null,
   "metadata": {
    "collapsed": true
   },
   "outputs": [],
   "source": [
    "import plotly.plotly as py\n",
    "from plotly.graph_objs import *\n",
    "import pandas as pd\n",
    "import requests\n",
    "from pyspark.sql import *\n",
    "from pyspark.sql.types import StringType\n",
    "requests.packages.urllib3.disable_warnings()\n",
    "\n",
    "tbName =[\"CH37H\" ,\"LOCMAP_S\"]\n",
    "url = \"jdbc:h2:tcp://localhost/~/ssmi9095ct\"\n",
    "\n",
    "df1 =sqlContext.load(source=\"jdbc\",url=url, dbtable = tbName[0]) #dbtable is variable\n",
    "df1.registerTempTable(tbName[0])\n",
    "df2 =sqlContext.load(source=\"jdbc\",url=url, dbtable = tbName[1]) #dbtable is variable\n",
    "df2.registerTempTable(tbName[1])\n"
   ]
  },
  {
   "cell_type": "code",
   "execution_count": null,
   "metadata": {
    "collapsed": true
   },
   "outputs": [],
   "source": [
    "#register helper functions for SQL\n",
    "sqlContext.registerFunction(\"MONTH\", lambda x: x[5:7], StringType())#grab Month\n",
    "sqlContext.registerFunction(\"YEAR\", lambda x: x[0:4], StringType())\n",
    "sqlContext.registerFunction(\"DAY\", lambda x: x[8:10], StringType())\n",
    "\n",
    "rdf = sqlContext.sql(\"SELECT * FROM CH37H t1, LOCMAP_S t2 WHERE t1.DATE BETWEEN '1990-09-09' AND '1990-10-10' AND t1.BT>200 AND t1.BT<230 AND MONTH(t1.DATE) = '09'\")"
   ]
  },
  {
   "cell_type": "code",
   "execution_count": null,
   "metadata": {
    "collapsed": true
   },
   "outputs": [],
   "source": []
  }
 ],
 "metadata": {
  "kernelspec": {
   "display_name": "Python 2",
   "language": "python",
   "name": "python2"
  },
  "language_info": {
   "codemirror_mode": {
    "name": "ipython",
    "version": 2
   },
   "file_extension": ".py",
   "mimetype": "text/x-python",
   "name": "python",
   "nbconvert_exporter": "python",
   "pygments_lexer": "ipython2",
   "version": "2.7.9"
  }
 },
 "nbformat": 4,
 "nbformat_minor": 0
}
