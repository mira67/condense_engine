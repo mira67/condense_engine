{
 "cells": [
  {
   "cell_type": "code",
   "execution_count": 1,
   "metadata": {
    "collapsed": false
   },
   "outputs": [],
   "source": [
    "import plotly.plotly as py\n",
    "from plotly.graph_objs import *\n",
    "import pandas as pd\n",
    "import requests\n",
    "from pyspark.sql import *\n",
    "from pyspark.sql.types import StringType\n",
    "requests.packages.urllib3.disable_warnings()\n",
    "\n",
    "tbName =[\"CH37H\" ,\"LOCMAP_S\"]\n",
    "url = \"jdbc:h2:tcp://localhost/~/ssmiTest\"\n",
    "\n",
    "df1 =sqlContext.read.jdbc(url=url, table = tbName[0],lowerBound = 0, upperBound = 350, numPartitions=4)#dbtable is variable\n",
    "df1.registerTempTable(tbName[0])\n",
    "df2 =sqlContext.read.jdbc(url=url, table = tbName[1],lowerBound = 0, upperBound = 350, numPartitions=4) #dbtable is variable\n",
    "df2.registerTempTable(tbName[1])\n",
    "\n",
    "#register helper functions for SQL\n",
    "sqlContext.registerFunction(\"MONTH\", lambda x: str(x)[5:7], StringType())#grab Month\n",
    "sqlContext.registerFunction(\"YEAR\", lambda x: str(x)[0:4], StringType())\n",
    "sqlContext.registerFunction(\"DAY\", lambda x: str(x)[8:10], StringType())\n"
   ]
  },
  {
   "cell_type": "code",
   "execution_count": 2,
   "metadata": {
    "collapsed": false
   },
   "outputs": [],
   "source": [
    "rdf = sqlContext.sql(\"SELECT BT FROM CH37H t1, LOCMAP_S t2 WHERE t1.DATE BETWEEN '1990-01-01' AND '1990-01-02' AND t1.BT = 351\")"
   ]
  },
  {
   "cell_type": "code",
   "execution_count": 5,
   "metadata": {
    "collapsed": true
   },
   "outputs": [],
   "source": [
    "sqlContext.registerDataFrameAsTable(rdf, \"ssmi\")"
   ]
  },
  {
   "cell_type": "code",
   "execution_count": 6,
   "metadata": {
    "collapsed": false
   },
   "outputs": [],
   "source": [
    "df2 = sqlContext.sql(\"SELECT BT as d1 from ssmi\")"
   ]
  },
  {
   "cell_type": "code",
   "execution_count": null,
   "metadata": {
    "collapsed": true
   },
   "outputs": [],
   "source": [
    "data = Data([Histogram(x=df2.toPandas()['d1'])])"
   ]
  },
  {
   "cell_type": "code",
   "execution_count": 3,
   "metadata": {
    "collapsed": false
   },
   "outputs": [],
   "source": [
    "nrdf = rdf.repartition(10)"
   ]
  },
  {
   "cell_type": "code",
   "execution_count": 3,
   "metadata": {
    "collapsed": false
   },
   "outputs": [
    {
     "name": "stdout",
     "output_type": "stream",
     "text": [
      "+--+\n",
      "|BT|\n",
      "+--+\n",
      "+--+\n",
      "\n"
     ]
    }
   ],
   "source": [
    "rdf.filter(rdf['BT'] == 351).show()"
   ]
  },
  {
   "cell_type": "code",
   "execution_count": 8,
   "metadata": {
    "collapsed": false
   },
   "outputs": [],
   "source": [
    "xd=rdf.toJSON()"
   ]
  },
  {
   "cell_type": "code",
   "execution_count": 10,
   "metadata": {
    "collapsed": false
   },
   "outputs": [
    {
     "data": {
      "text/plain": [
       "1"
      ]
     },
     "execution_count": 10,
     "metadata": {},
     "output_type": "execute_result"
    }
   ],
   "source": [
    "rdf.rdd.getNumPartitions()"
   ]
  },
  {
   "cell_type": "code",
   "execution_count": 13,
   "metadata": {
    "collapsed": false
   },
   "outputs": [
    {
     "data": {
      "text/plain": [
       "5"
      ]
     },
     "execution_count": 13,
     "metadata": {},
     "output_type": "execute_result"
    }
   ],
   "source": [
    "2+3"
   ]
  },
  {
   "cell_type": "code",
   "execution_count": 16,
   "metadata": {
    "collapsed": false
   },
   "outputs": [
    {
     "ename": "AttributeError",
     "evalue": "'list' object has no attribute 'show'",
     "output_type": "error",
     "traceback": [
      "\u001b[0;31m---------------------------------------------------------------------------\u001b[0m",
      "\u001b[0;31mAttributeError\u001b[0m                            Traceback (most recent call last)",
      "\u001b[0;32m<ipython-input-16-c8da4363664e>\u001b[0m in \u001b[0;36m<module>\u001b[0;34m()\u001b[0m\n\u001b[0;32m----> 1\u001b[0;31m \u001b[0mxd2\u001b[0m \u001b[0;34m=\u001b[0m \u001b[0mrdf\u001b[0m\u001b[0;34m.\u001b[0m\u001b[0mcollect\u001b[0m\u001b[0;34m(\u001b[0m\u001b[0;34m)\u001b[0m\u001b[0;34m.\u001b[0m\u001b[0mshow\u001b[0m\u001b[0;34m(\u001b[0m\u001b[0;34m)\u001b[0m\u001b[0;34m\u001b[0m\u001b[0m\n\u001b[0m",
      "\u001b[0;31mAttributeError\u001b[0m: 'list' object has no attribute 'show'"
     ]
    }
   ],
   "source": [
    "xd2 = rdf.collect().show()"
   ]
  },
  {
   "cell_type": "code",
   "execution_count": 7,
   "metadata": {
    "collapsed": false
   },
   "outputs": [
    {
     "name": "stderr",
     "output_type": "stream",
     "text": [
      "ERROR:py4j.java_gateway:An error occurred while trying to connect to the Java server\n",
      "Traceback (most recent call last):\n",
      "  File \"/Users/mira67/Downloads/spark-1.4.0/python/lib/py4j-0.8.2.1-src.zip/py4j/java_gateway.py\", line 425, in start\n",
      "    self.socket.connect((self.address, self.port))\n",
      "  File \"/Library/Frameworks/Python.framework/Versions/2.7/lib/python2.7/socket.py\", line 224, in meth\n",
      "    return getattr(self._sock,name)(*args)\n",
      "error: [Errno 61] Connection refused\n",
      "Error in atexit._run_exitfuncs:\n",
      "Traceback (most recent call last):\n",
      "  File \"/Library/Frameworks/Python.framework/Versions/2.7/lib/python2.7/atexit.py\", line 24, in _run_exitfuncs\n",
      "    func(*targs, **kargs)\n",
      "  File \"/Users/mira67/Downloads/spark-1.4.0/python/pyspark/shell.py\", line 44, in <lambda>\n",
      "    atexit.register(lambda: sc.stop())\n",
      "  File \"/Users/mira67/Downloads/spark-1.4.0/python/pyspark/context.py\", line 319, in stop\n",
      "    self._jsc.stop()\n",
      "  File \"/Users/mira67/Downloads/spark-1.4.0/python/lib/py4j-0.8.2.1-src.zip/py4j/java_gateway.py\", line 536, in __call__\n",
      "    answer = self.gateway_client.send_command(command)\n",
      "  File \"/Users/mira67/Downloads/spark-1.4.0/python/lib/py4j-0.8.2.1-src.zip/py4j/java_gateway.py\", line 362, in send_command\n",
      "    connection = self._get_connection()\n",
      "  File \"/Users/mira67/Downloads/spark-1.4.0/python/lib/py4j-0.8.2.1-src.zip/py4j/java_gateway.py\", line 318, in _get_connection\n",
      "    connection = self._create_connection()\n",
      "  File \"/Users/mira67/Downloads/spark-1.4.0/python/lib/py4j-0.8.2.1-src.zip/py4j/java_gateway.py\", line 325, in _create_connection\n",
      "    connection.start()\n",
      "  File \"/Users/mira67/Downloads/spark-1.4.0/python/lib/py4j-0.8.2.1-src.zip/py4j/java_gateway.py\", line 432, in start\n",
      "    raise Py4JNetworkError(msg)\n",
      "Py4JNetworkError: An error occurred while trying to connect to the Java server\n",
      "Error in sys.exitfunc:\n",
      "ERROR:py4j.java_gateway:An error occurred while trying to connect to the Java server\n",
      "Traceback (most recent call last):\n",
      "  File \"/Users/mira67/Downloads/spark-1.4.0/python/lib/py4j-0.8.2.1-src.zip/py4j/java_gateway.py\", line 425, in start\n",
      "    self.socket.connect((self.address, self.port))\n",
      "  File \"/Library/Frameworks/Python.framework/Versions/2.7/lib/python2.7/socket.py\", line 224, in meth\n",
      "    return getattr(self._sock,name)(*args)\n",
      "error: [Errno 61] Connection refused\n",
      "ERROR:py4j.java_gateway:An error occurred while trying to connect to the Java server\n",
      "Traceback (most recent call last):\n",
      "  File \"/Users/mira67/Downloads/spark-1.4.0/python/lib/py4j-0.8.2.1-src.zip/py4j/java_gateway.py\", line 425, in start\n",
      "    self.socket.connect((self.address, self.port))\n",
      "  File \"/Library/Frameworks/Python.framework/Versions/2.7/lib/python2.7/socket.py\", line 224, in meth\n",
      "    return getattr(self._sock,name)(*args)\n",
      "error: [Errno 61] Connection refused\n",
      "ERROR:py4j.java_gateway:An error occurred while trying to connect to the Java server\n",
      "Traceback (most recent call last):\n",
      "  File \"/Users/mira67/Downloads/spark-1.4.0/python/lib/py4j-0.8.2.1-src.zip/py4j/java_gateway.py\", line 425, in start\n",
      "    self.socket.connect((self.address, self.port))\n",
      "  File \"/Library/Frameworks/Python.framework/Versions/2.7/lib/python2.7/socket.py\", line 224, in meth\n",
      "    return getattr(self._sock,name)(*args)\n",
      "error: [Errno 61] Connection refused\n"
     ]
    }
   ],
   "source": [
    "quit()"
   ]
  },
  {
   "cell_type": "code",
   "execution_count": null,
   "metadata": {
    "collapsed": true
   },
   "outputs": [],
   "source": []
  }
 ],
 "metadata": {
  "kernelspec": {
   "display_name": "Python 2",
   "language": "python",
   "name": "python2"
  },
  "language_info": {
   "codemirror_mode": {
    "name": "ipython",
    "version": 2
   },
   "file_extension": ".py",
   "mimetype": "text/x-python",
   "name": "python",
   "nbconvert_exporter": "python",
   "pygments_lexer": "ipython2",
   "version": "2.7.9"
  }
 },
 "nbformat": 4,
 "nbformat_minor": 0
}
